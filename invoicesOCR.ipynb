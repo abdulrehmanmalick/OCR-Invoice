{
 "cells": [
  {
   "cell_type": "code",
   "execution_count": 1,
   "metadata": {},
   "outputs": [],
   "source": [
    "# PDF to JPG"
   ]
  },
  {
   "cell_type": "code",
   "execution_count": 2,
   "metadata": {},
   "outputs": [],
   "source": [
    "from pdf2image import convert_from_path\n",
    "import os\n",
    "import glob"
   ]
  },
  {
   "cell_type": "code",
   "execution_count": 3,
   "metadata": {},
   "outputs": [
    {
     "name": "stdout",
     "output_type": "stream",
     "text": [
      "Converted: Converted_Images\\inv - 1_page0.jpg\n",
      "Converted: Converted_Images\\inv - 2_page0.jpg\n",
      "Converted: Converted_Images\\inv - 3_page0.jpg\n",
      "Converted: Converted_Images\\inv - 3_page1.jpg\n",
      "Converted: Converted_Images\\inv - 3_page2.jpg\n",
      "Converted: Converted_Images\\inv - 3_page3.jpg\n",
      "Converted: Converted_Images\\inv - 3_page4.jpg\n",
      "Converted: Converted_Images\\inv - 3_page5.jpg\n",
      "Converted: Converted_Images\\inv - 3_page6.jpg\n",
      "Converted: Converted_Images\\inv - 3_page7.jpg\n",
      "Converted: Converted_Images\\inv - 3_page8.jpg\n",
      "Converted: Converted_Images\\inv - 3_page9.jpg\n",
      "Converted: Converted_Images\\inv - 3_page10.jpg\n",
      "Converted: Converted_Images\\inv - 3_page11.jpg\n",
      "Converted: Converted_Images\\inv - 3_page12.jpg\n",
      "Converted: Converted_Images\\inv - 3_page13.jpg\n",
      "Converted: Converted_Images\\inv - 3_page14.jpg\n",
      "Converted: Converted_Images\\inv - 3_page15.jpg\n",
      "Converted: Converted_Images\\inv - 3_page16.jpg\n",
      "Converted: Converted_Images\\inv - 3_page17.jpg\n",
      "Converted: Converted_Images\\inv - 3_page18.jpg\n",
      "Converted: Converted_Images\\inv - 3_page19.jpg\n",
      "Converted: Converted_Images\\inv - 3_page20.jpg\n",
      "Converted: Converted_Images\\inv - 3_page21.jpg\n",
      "Converted: Converted_Images\\inv - 3_page22.jpg\n",
      "Converted: Converted_Images\\inv - 3_page23.jpg\n",
      "Converted: Converted_Images\\inv - 3_page24.jpg\n",
      "Converted: Converted_Images\\inv - 3_page25.jpg\n",
      "Converted: Converted_Images\\inv - 4_page0.jpg\n",
      "Converted: Converted_Images\\inv - 5_page0.jpg\n",
      "Converted: Converted_Images\\inv- 6_page0.jpg\n"
     ]
    }
   ],
   "source": [
    "output_dir = 'Converted_Images'\n",
    "os.makedirs(output_dir, exist_ok=True)\n",
    "\n",
    "pdf_folder = 'PDFS'\n",
    "pdf_files = glob.glob(os.path.join(pdf_folder, '*.pdf'))\n",
    "\n",
    "for pdf_file in pdf_files:\n",
    "    images = convert_from_path(pdf_file, 500, poppler_path=r'C:\\Program Files\\poppler-23.05.0\\Library\\bin')\n",
    "    \n",
    "    for i, image in enumerate(images):\n",
    "        image_path = os.path.join(output_dir, f'{os.path.splitext(os.path.basename(pdf_file))[0]}_page{i}.jpg')\n",
    "        image.save(image_path)\n",
    "        print(\"Converted:\", image_path)\n"
   ]
  },
  {
   "cell_type": "code",
   "execution_count": 4,
   "metadata": {},
   "outputs": [],
   "source": [
    "# PreProcessing "
   ]
  },
  {
   "cell_type": "code",
   "execution_count": 5,
   "metadata": {},
   "outputs": [],
   "source": [
    "import cv2\n",
    "import os\n",
    "import numpy as np"
   ]
  },
  {
   "cell_type": "code",
   "execution_count": 6,
   "metadata": {},
   "outputs": [],
   "source": [
    "# Create the output directory if it doesn't exist\n",
    "output_dir = 'Processed_Images'\n",
    "os.makedirs(output_dir, exist_ok=True)"
   ]
  },
  {
   "cell_type": "code",
   "execution_count": 7,
   "metadata": {},
   "outputs": [],
   "source": [
    "# Color Correction\n",
    "def color_correction(image):\n",
    "    lab_image = cv2.cvtColor(image, cv2.COLOR_BGR2LAB)\n",
    "    l_channel, a_channel, b_channel = cv2.split(lab_image)\n",
    "    clahe = cv2.createCLAHE(clipLimit=3.0, tileGridSize=(8, 8))\n",
    "    clahe_l_channel = clahe.apply(l_channel)\n",
    "    corrected_lab_image = cv2.merge((clahe_l_channel, a_channel, b_channel))\n",
    "    corrected_image = cv2.cvtColor(corrected_lab_image, cv2.COLOR_LAB2BGR)\n",
    "    return corrected_image"
   ]
  },
  {
   "cell_type": "code",
   "execution_count": 8,
   "metadata": {},
   "outputs": [],
   "source": [
    "# Brightness Adjustment\n",
    "def adjust_brightness(image, value):\n",
    "    hsv_image = cv2.cvtColor(image, cv2.COLOR_BGR2HSV)\n",
    "    h_channel, s_channel, v_channel = cv2.split(hsv_image)\n",
    "    v_channel = np.clip(v_channel + value, 0, 255)\n",
    "    adjusted_hsv_image = cv2.merge((h_channel, s_channel, v_channel))\n",
    "    adjusted_image = cv2.cvtColor(adjusted_hsv_image, cv2.COLOR_HSV2BGR)\n",
    "    return adjusted_image"
   ]
  },
  {
   "cell_type": "code",
   "execution_count": 9,
   "metadata": {},
   "outputs": [],
   "source": [
    "# Calculate Image Entropy\n",
    "def calculate_entropy(image):\n",
    "    gray_image = cv2.cvtColor(image, cv2.COLOR_BGR2GRAY)\n",
    "    hist = cv2.calcHist([gray_image], [0], None, [256], [0, 256])\n",
    "    hist /= hist.sum()\n",
    "    entropy = -np.sum(hist * np.log2(hist + np.finfo(float).eps))\n",
    "    return entropy"
   ]
  },
  {
   "cell_type": "code",
   "execution_count": 10,
   "metadata": {},
   "outputs": [],
   "source": [
    "# Calculate Image Edge Density\n",
    "def calculate_edge_density(image):\n",
    "    gray_image = cv2.cvtColor(image, cv2.COLOR_BGR2GRAY)\n",
    "    edges = cv2.Canny(gray_image, 50, 150)\n",
    "    edge_density = np.count_nonzero(edges) / (edges.shape[0] * edges.shape[1])\n",
    "    return edge_density"
   ]
  },
  {
   "cell_type": "code",
   "execution_count": 11,
   "metadata": {},
   "outputs": [],
   "source": [
    "threshold = 240\n",
    "\n",
    "# Saturation Level Threshold\n",
    "saturation_threshold = 8  # Adjust this value as needed\n",
    "\n",
    "# Input folder path\n",
    "input_folder = 'Converted_Images'\n",
    "\n",
    "# Get a list of all image files in the input folder\n",
    "image_files = os.listdir(input_folder)"
   ]
  },
  {
   "cell_type": "code",
   "execution_count": 20,
   "metadata": {},
   "outputs": [
    {
     "name": "stdout",
     "output_type": "stream",
     "text": [
      "Processed Image saved at: Processed_Images\\inv - 1_page0.jpg\n",
      "Original Image saved at: Processed_Images\\inv - 2_page0.jpg\n",
      "Original Image saved at: Processed_Images\\inv - 3_page0.jpg\n",
      "Original Image saved at: Processed_Images\\inv - 3_page1.jpg\n",
      "Original Image saved at: Processed_Images\\inv - 3_page10.jpg\n",
      "Processed Image saved at: Processed_Images\\inv - 3_page11.jpg\n",
      "Original Image saved at: Processed_Images\\inv - 3_page12.jpg\n",
      "Processed Image saved at: Processed_Images\\inv - 3_page13.jpg\n",
      "Processed Image saved at: Processed_Images\\inv - 3_page14.jpg\n",
      "Original Image saved at: Processed_Images\\inv - 3_page15.jpg\n",
      "Processed Image saved at: Processed_Images\\inv - 3_page16.jpg\n",
      "Original Image saved at: Processed_Images\\inv - 3_page17.jpg\n",
      "Processed Image saved at: Processed_Images\\inv - 3_page18.jpg\n",
      "Original Image saved at: Processed_Images\\inv - 3_page19.jpg\n",
      "Original Image saved at: Processed_Images\\inv - 3_page2.jpg\n",
      "Processed Image saved at: Processed_Images\\inv - 3_page20.jpg\n",
      "Original Image saved at: Processed_Images\\inv - 3_page21.jpg\n",
      "Processed Image saved at: Processed_Images\\inv - 3_page22.jpg\n",
      "Original Image saved at: Processed_Images\\inv - 3_page23.jpg\n",
      "Processed Image saved at: Processed_Images\\inv - 3_page24.jpg\n",
      "Processed Image saved at: Processed_Images\\inv - 3_page25.jpg\n",
      "Processed Image saved at: Processed_Images\\inv - 3_page3.jpg\n",
      "Original Image saved at: Processed_Images\\inv - 3_page4.jpg\n",
      "Processed Image saved at: Processed_Images\\inv - 3_page5.jpg\n",
      "Original Image saved at: Processed_Images\\inv - 3_page6.jpg\n",
      "Processed Image saved at: Processed_Images\\inv - 3_page7.jpg\n",
      "Original Image saved at: Processed_Images\\inv - 3_page8.jpg\n",
      "Processed Image saved at: Processed_Images\\inv - 3_page9.jpg\n",
      "Processed Image saved at: Processed_Images\\inv - 4_page0.jpg\n",
      "Original Image saved at: Processed_Images\\inv - 5_page0.jpg\n",
      "Processed Image saved at: Processed_Images\\inv- 6_page0.jpg\n",
      "Processed Image saved at: Processed_Images\\PPL- Supplies 21-06-23_page14.jpg\n"
     ]
    }
   ],
   "source": [
    "# Process each image file\n",
    "for file_name in image_files:\n",
    "    # Construct the full path for the input and output images\n",
    "    input_image_path = os.path.join(input_folder, file_name)\n",
    "    output_image_path = os.path.join(output_dir, file_name)\n",
    "\n",
    "    # Load the input image\n",
    "    image = cv2.imread(input_image_path)\n",
    "\n",
    "    # Calculate image metrics\n",
    "    average_intensity = np.mean(image)\n",
    "    entropy = calculate_entropy(image)\n",
    "    edge_density = calculate_edge_density(image)\n",
    "    saturation = cv2.cvtColor(image, cv2.COLOR_BGR2HSV)[:, :, 1].mean()\n",
    "\n",
    "    # Check if preprocessing is needed based on the criteria\n",
    "    if (average_intensity < threshold or entropy < 4) and (edge_density > 0.03 or saturation < saturation_threshold):\n",
    "        # Apply Color Correction\n",
    "        color_corrected_image = color_correction(image)\n",
    "        # Apply Brightness Adjustment\n",
    "        adjusted_image = adjust_brightness(color_corrected_image, 230)\n",
    "\n",
    "        # Save the processed image\n",
    "        cv2.imwrite(output_image_path, adjusted_image)\n",
    "        print(\"Processed Image saved at:\", output_image_path)\n",
    "    else:\n",
    "        # Save the original image without preprocessing\n",
    "        cv2.imwrite(output_image_path, image)\n",
    "        print(\"Original Image saved at:\", output_image_path)"
   ]
  },
  {
   "cell_type": "code",
   "execution_count": 14,
   "metadata": {},
   "outputs": [],
   "source": [
    "# OCR "
   ]
  },
  {
   "cell_type": "code",
   "execution_count": 2,
   "metadata": {},
   "outputs": [],
   "source": [
    "from mindee import Client, documents\n",
    "import os"
   ]
  },
  {
   "cell_type": "code",
   "execution_count": 3,
   "metadata": {},
   "outputs": [],
   "source": [
    "# mindee_client = Client(api_key=\"fbceb71fad7dd72a19f64269cb5adf16\") #API key\n",
    "mindee_client = Client(api_key=\"53d2514fb4521552c86bb65bd465a445\") #API key\n",
    "input_folder = \"Processed_Images\"\n"
   ]
  },
  {
   "cell_type": "code",
   "execution_count": 4,
   "metadata": {},
   "outputs": [],
   "source": [
    "# Get a list of all image files in the input folder\n",
    "image_files = os.listdir(input_folder)\n"
   ]
  },
  {
   "cell_type": "code",
   "execution_count": 5,
   "metadata": {},
   "outputs": [
    {
     "name": "stdout",
     "output_type": "stream",
     "text": [
      "Processing image: inv - 1_page0.jpg\n"
     ]
    },
    {
     "ename": "HTTPException",
     "evalue": "API 403 HTTP error: {\"api_request\": {\"error\": {\"code\": \"PlanLimitReached\", \"details\": \"You have reached your maximum number of requests\", \"message\": \"Plan limit has been reached\"}, \"resources\": [], \"status\": \"failure\", \"status_code\": 403, \"url\": \"https://api.mindee.net/v1/products/mindee/invoices/v4/predict\"}}",
     "output_type": "error",
     "traceback": [
      "\u001b[1;31m---------------------------------------------------------------------------\u001b[0m",
      "\u001b[1;31mHTTPException\u001b[0m                             Traceback (most recent call last)",
      "Cell \u001b[1;32mIn[5], line 12\u001b[0m\n\u001b[0;32m      9\u001b[0m input_doc \u001b[39m=\u001b[39m mindee_client\u001b[39m.\u001b[39mdoc_from_path(input_image_path)\n\u001b[0;32m     11\u001b[0m \u001b[39m# Parse the document using the TypeInvoiceV4 template\u001b[39;00m\n\u001b[1;32m---> 12\u001b[0m api_response \u001b[39m=\u001b[39m input_doc\u001b[39m.\u001b[39;49mparse(documents\u001b[39m.\u001b[39;49mTypeInvoiceV4)\n\u001b[0;32m     14\u001b[0m \u001b[39m# Check if relevant data is found\u001b[39;00m\n\u001b[0;32m     15\u001b[0m \u001b[39mif\u001b[39;00m api_response\u001b[39m.\u001b[39mdocument \u001b[39mis\u001b[39;00m \u001b[39mNone\u001b[39;00m:\n",
      "File \u001b[1;32mc:\\Users\\abdwo\\AppData\\Local\\Programs\\Python\\Python311\\Lib\\site-packages\\mindee\\client.py:99\u001b[0m, in \u001b[0;36mDocumentClient.parse\u001b[1;34m(self, document_class, endpoint_name, account_name, include_words, close_file, page_options, cropper)\u001b[0m\n\u001b[0;32m     93\u001b[0m     \u001b[39mif\u001b[39;00m page_options \u001b[39mand\u001b[39;00m \u001b[39mself\u001b[39m\u001b[39m.\u001b[39minput_doc\u001b[39m.\u001b[39mis_pdf():\n\u001b[0;32m     94\u001b[0m         \u001b[39mself\u001b[39m\u001b[39m.\u001b[39minput_doc\u001b[39m.\u001b[39mprocess_pdf(\n\u001b[0;32m     95\u001b[0m             page_options\u001b[39m.\u001b[39moperation,\n\u001b[0;32m     96\u001b[0m             page_options\u001b[39m.\u001b[39mon_min_pages,\n\u001b[0;32m     97\u001b[0m             page_options\u001b[39m.\u001b[39mpage_indexes,\n\u001b[0;32m     98\u001b[0m         )\n\u001b[1;32m---> 99\u001b[0m \u001b[39mreturn\u001b[39;00m \u001b[39mself\u001b[39;49m\u001b[39m.\u001b[39;49m_make_request(\n\u001b[0;32m    100\u001b[0m     document_class,\n\u001b[0;32m    101\u001b[0m     doc_config,\n\u001b[0;32m    102\u001b[0m     include_words,\n\u001b[0;32m    103\u001b[0m     close_file,\n\u001b[0;32m    104\u001b[0m     cropper,\n\u001b[0;32m    105\u001b[0m )\n",
      "File \u001b[1;32mc:\\Users\\abdwo\\AppData\\Local\\Programs\\Python\\Python311\\Lib\\site-packages\\mindee\\client.py:222\u001b[0m, in \u001b[0;36mDocumentClient._make_request\u001b[1;34m(self, document_class, doc_config, include_words, close_file, cropper)\u001b[0m\n\u001b[0;32m    219\u001b[0m dict_response \u001b[39m=\u001b[39m response\u001b[39m.\u001b[39mjson()\n\u001b[0;32m    221\u001b[0m \u001b[39mif\u001b[39;00m \u001b[39mnot\u001b[39;00m response\u001b[39m.\u001b[39mok \u001b[39mand\u001b[39;00m \u001b[39mself\u001b[39m\u001b[39m.\u001b[39mraise_on_error:\n\u001b[1;32m--> 222\u001b[0m     \u001b[39mraise\u001b[39;00m HTTPException(\n\u001b[0;32m    223\u001b[0m         \u001b[39mf\u001b[39m\u001b[39m\"\u001b[39m\u001b[39mAPI \u001b[39m\u001b[39m{\u001b[39;00mresponse\u001b[39m.\u001b[39mstatus_code\u001b[39m}\u001b[39;00m\u001b[39m HTTP error: \u001b[39m\u001b[39m{\u001b[39;00mjson\u001b[39m.\u001b[39mdumps(dict_response)\u001b[39m}\u001b[39;00m\u001b[39m\"\u001b[39m\n\u001b[0;32m    224\u001b[0m     )\n\u001b[0;32m    226\u001b[0m \u001b[39mreturn\u001b[39;00m PredictResponse[TypeDocument](\n\u001b[0;32m    227\u001b[0m     http_response\u001b[39m=\u001b[39mdict_response,\n\u001b[0;32m    228\u001b[0m     doc_config\u001b[39m=\u001b[39mdoc_config,\n\u001b[0;32m    229\u001b[0m     input_source\u001b[39m=\u001b[39m\u001b[39mself\u001b[39m\u001b[39m.\u001b[39minput_doc,\n\u001b[0;32m    230\u001b[0m     response_ok\u001b[39m=\u001b[39mresponse\u001b[39m.\u001b[39mok,\n\u001b[0;32m    231\u001b[0m )\n",
      "\u001b[1;31mHTTPException\u001b[0m: API 403 HTTP error: {\"api_request\": {\"error\": {\"code\": \"PlanLimitReached\", \"details\": \"You have reached your maximum number of requests\", \"message\": \"Plan limit has been reached\"}, \"resources\": [], \"status\": \"failure\", \"status_code\": 403, \"url\": \"https://api.mindee.net/v1/products/mindee/invoices/v4/predict\"}}"
     ]
    }
   ],
   "source": [
    "# Process each image file\n",
    "for file_name in image_files:\n",
    "    # Construct the full path for the input image\n",
    "    input_image_path = os.path.join(input_folder, file_name)\n",
    "    \n",
    "    print(\"Processing image:\", file_name)\n",
    "    \n",
    "    # Create a document from the image\n",
    "    input_doc = mindee_client.doc_from_path(input_image_path)\n",
    "    \n",
    "    # Parse the document using the TypeInvoiceV4 template\n",
    "    api_response = input_doc.parse(documents.TypeInvoiceV4)\n",
    "    \n",
    "    # Check if relevant data is found\n",
    "    if api_response.document is None:\n",
    "        print(\"No relevant data found\")\n",
    "    else:\n",
    "        # Retrieve the extracted information\n",
    "        invoice_number = api_response.document.invoice_number\n",
    "        total_amount = api_response.document.total_amount\n",
    "        invoice_date = api_response.document.invoice_date\n",
    "        reference_numbers = api_response.document.reference_numbers\n",
    "        # reference_numbers = api_response.document.reference_numbers\n",
    "\n",
    "        \n",
    "        print(\"Invoice Number:\", invoice_number)\n",
    "        print(\"Total Amount:\", total_amount)\n",
    "        print(\"Invoice Date:\", invoice_date)\n",
    "        \n",
    "        for reference_number in reference_numbers:\n",
    "            if reference_number.value.startswith(\"4\"):\n",
    "                print(\"Purchase Order Number:\", reference_number.value)\n",
    "            else:\n",
    "                print(\"Reference Numbers:\", reference_number.value)\n",
    "        # print(api_response.document)\n",
    "    \n",
    "    print(\"---------------------------------------------------\")  # Add a newline between images\n",
    "    print(\"---------------------------------------------------\")  "
   ]
  },
  {
   "cell_type": "code",
   "execution_count": null,
   "metadata": {},
   "outputs": [],
   "source": []
  }
 ],
 "metadata": {
  "kernelspec": {
   "display_name": "Python 3",
   "language": "python",
   "name": "python3"
  },
  "language_info": {
   "codemirror_mode": {
    "name": "ipython",
    "version": 3
   },
   "file_extension": ".py",
   "mimetype": "text/x-python",
   "name": "python",
   "nbconvert_exporter": "python",
   "pygments_lexer": "ipython3",
   "version": "3.11.4"
  },
  "orig_nbformat": 4
 },
 "nbformat": 4,
 "nbformat_minor": 2
}
